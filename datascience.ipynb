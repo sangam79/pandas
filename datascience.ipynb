{
 "cells": [
  {
   "cell_type": "code",
   "execution_count": null,
   "metadata": {},
   "outputs": [],
   "source": []
  },
  {
   "cell_type": "code",
   "execution_count": 2,
   "metadata": {},
   "outputs": [
    {
     "data": {
      "image/png": "[encoded data removed]",
      "text/plain": [
       "<Figure size 432x288 with 1 Axes>"
      ]
     },
     "metadata": {
      "needs_background": "light"
     },
     "output_type": "display_data"
    }
   ],
   "source": [
    "import matplotlib.pyplot as plt\n",
    "plt.plot([[0,0],[4,4]] , linewidth=4 , label='random diagonal')\n",
    "\n",
    "plt.grid()"
   ]
  },
  {
   "cell_type": "code",
   "execution_count": 3,
   "metadata": {},
   "outputs": [
    {
     "name": "stdout",
     "output_type": "stream",
     "text": [
      "   population  birth rate  death rate\n",
      "0      110000         1.5         1.1\n",
      "1      120000         1.7         1.4\n",
      "2      160000         1.2         1.5\n",
      "3      130000         1.4         1.7\n"
     ]
    },
    {
     "data": {
      "image/png": "[encoded data removed]",
      "text/plain": [
       "<Figure size 432x288 with 1 Axes>"
      ]
     },
     "metadata": {
      "needs_background": "light"
     },
     "output_type": "display_data"
    }
   ],
   "source": [
    "import pandas as pd\n",
    "df = pd.read_csv(r'Downloads\\sangam.csv')\n",
    "print(df)\n",
    "\n",
    "a = df['population'] * df['birth rate'] - (df['population'] * df['death rate'])\n",
    "\n",
    "import matplotlib.pyplot as plt\n",
    "plt.plot(a)\n",
    "plt.show()"
   ]
  },
  {
   "cell_type": "code",
   "execution_count": 4,
   "metadata": {},
   "outputs": [
    {
     "data": {
      "text/plain": [
       "160000"
      ]
     },
     "execution_count": 4,
     "metadata": {},
     "output_type": "execute_result"
    }
   ],
   "source": [
    "df['population'].max()"
   ]
  },
  {
   "cell_type": "code",
   "execution_count": 5,
   "metadata": {},
   "outputs": [
    {
     "name": "stdout",
     "output_type": "stream",
     "text": [
      "1.7\n"
     ]
    }
   ],
   "source": [
    "a = df.loc[3,'death rate']\n",
    "print(a)"
   ]
  },
  {
   "cell_type": "code",
   "execution_count": 6,
   "metadata": {},
   "outputs": [
    {
     "data": {
      "text/plain": [
       "Index(['population', 'birth rate', 'death rate'], dtype='object')"
      ]
     },
     "execution_count": 6,
     "metadata": {},
     "output_type": "execute_result"
    }
   ],
   "source": [
    "df.columns"
   ]
  },
  {
   "cell_type": "code",
   "execution_count": 7,
   "metadata": {},
   "outputs": [
    {
     "data": {
      "text/plain": [
       "0    1.5\n",
       "1    1.7\n",
       "2    1.2\n",
       "3    1.4\n",
       "Name: birth rate, dtype: float64"
      ]
     },
     "execution_count": 7,
     "metadata": {},
     "output_type": "execute_result"
    }
   ],
   "source": [
    "df['birth rate']"
   ]
  },
  {
   "cell_type": "code",
   "execution_count": null,
   "metadata": {},
   "outputs": [],
   "source": []
  },
  {
   "cell_type": "code",
   "execution_count": 8,
   "metadata": {},
   "outputs": [
    {
     "name": "stdout",
     "output_type": "stream",
     "text": [
      "   population  birth rate  death rate\n",
      "0      110000         1.5         1.1\n",
      "1      120000         1.7         1.4\n",
      "2      160000         1.2         1.5\n",
      "3      130000         1.4         1.7\n"
     ]
    }
   ],
   "source": [
    "import pandas as pd\n",
    "df1 = pd.read_csv(r\"Downloads\\new.csv\")\n",
    "print(df)\n",
    "\n",
    "\n",
    "\n",
    "\n",
    "   \n"
   ]
  },
  {
   "cell_type": "code",
   "execution_count": 9,
   "metadata": {},
   "outputs": [
    {
     "name": "stdout",
     "output_type": "stream",
     "text": [
      "                Name      Roll no Faculty  Year      Code     Barcode\n",
      "Name                                                                 \n",
      "Sangam        Sangam  16-cse-3029     cse  2020  16203079  *16203079*\n",
      "Bibek          Bibek  16-cse-3029     cse  2020  16203029  *16203029*\n",
      "Pradip        Pradip  16-cse-3059     cse  2020  16203059  *16203059*\n",
      "Abhishekh  Abhishekh  16-cse-3002     cse  2020  16203002  *16203002*\n"
     ]
    }
   ],
   "source": [
    "df = df1.set_index ( \"Name\", drop = False )\n",
    "print(df)\n",
    "\n"
   ]
  },
  {
   "cell_type": "code",
   "execution_count": 10,
   "metadata": {
    "scrolled": true
   },
   "outputs": [
    {
     "data": {
      "text/html": [
       "<div>\n",
       "<style scoped>\n",
       "    .dataframe tbody tr th:only-of-type {\n",
       "        vertical-align: middle;\n",
       "    }\n",
       "\n",
       "    .dataframe tbody tr th {\n",
       "        vertical-align: top;\n",
       "    }\n",
       "\n",
       "    .dataframe thead th {\n",
       "        text-align: right;\n",
       "    }\n",
       "</style>\n",
       "<table border=\"1\" class=\"dataframe\">\n",
       "  <thead>\n",
       "    <tr style=\"text-align: right;\">\n",
       "      <th></th>\n",
       "      <th>Name</th>\n",
       "      <th>Roll no</th>\n",
       "      <th>Faculty</th>\n",
       "      <th>Year</th>\n",
       "      <th>Code</th>\n",
       "      <th>Barcode</th>\n",
       "    </tr>\n",
       "    <tr>\n",
       "      <th>Name</th>\n",
       "      <th></th>\n",
       "      <th></th>\n",
       "      <th></th>\n",
       "      <th></th>\n",
       "      <th></th>\n",
       "      <th></th>\n",
       "    </tr>\n",
       "  </thead>\n",
       "  <tbody>\n",
       "    <tr>\n",
       "      <th>Sangam</th>\n",
       "      <td>Sangam</td>\n",
       "      <td>16-cse-3029</td>\n",
       "      <td>cse</td>\n",
       "      <td>2020</td>\n",
       "      <td>16203079</td>\n",
       "      <td>*16203079*</td>\n",
       "    </tr>\n",
       "    <tr>\n",
       "      <th>Bibek</th>\n",
       "      <td>Bibek</td>\n",
       "      <td>16-cse-3029</td>\n",
       "      <td>cse</td>\n",
       "      <td>2020</td>\n",
       "      <td>16203029</td>\n",
       "      <td>*16203029*</td>\n",
       "    </tr>\n",
       "    <tr>\n",
       "      <th>Pradip</th>\n",
       "      <td>Pradip</td>\n",
       "      <td>16-cse-3059</td>\n",
       "      <td>cse</td>\n",
       "      <td>2020</td>\n",
       "      <td>16203059</td>\n",
       "      <td>*16203059*</td>\n",
       "    </tr>\n",
       "    <tr>\n",
       "      <th>Abhishekh</th>\n",
       "      <td>Abhishekh</td>\n",
       "      <td>16-cse-3002</td>\n",
       "      <td>cse</td>\n",
       "      <td>2020</td>\n",
       "      <td>16203002</td>\n",
       "      <td>*16203002*</td>\n",
       "    </tr>\n",
       "  </tbody>\n",
       "</table>\n",
       "</div>"
      ],
      "text/plain": [
       "                Name      Roll no Faculty  Year      Code     Barcode\n",
       "Name                                                                 \n",
       "Sangam        Sangam  16-cse-3029     cse  2020  16203079  *16203079*\n",
       "Bibek          Bibek  16-cse-3029     cse  2020  16203029  *16203029*\n",
       "Pradip        Pradip  16-cse-3059     cse  2020  16203059  *16203059*\n",
       "Abhishekh  Abhishekh  16-cse-3002     cse  2020  16203002  *16203002*"
      ]
     },
     "execution_count": 10,
     "metadata": {},
     "output_type": "execute_result"
    }
   ],
   "source": [
    "df.loc[:]\n",
    "        "
   ]
  },
  {
   "cell_type": "code",
   "execution_count": 12,
   "metadata": {},
   "outputs": [
    {
     "name": "stdout",
     "output_type": "stream",
     "text": [
      "enter a nameSangam\n"
     ]
    },
    {
     "data": {
      "text/html": [
       "<div>\n",
       "<style scoped>\n",
       "    .dataframe tbody tr th:only-of-type {\n",
       "        vertical-align: middle;\n",
       "    }\n",
       "\n",
       "    .dataframe tbody tr th {\n",
       "        vertical-align: top;\n",
       "    }\n",
       "\n",
       "    .dataframe thead th {\n",
       "        text-align: right;\n",
       "    }\n",
       "</style>\n",
       "<table border=\"1\" class=\"dataframe\">\n",
       "  <thead>\n",
       "    <tr style=\"text-align: right;\">\n",
       "      <th></th>\n",
       "      <th>Name</th>\n",
       "      <th>Roll no</th>\n",
       "      <th>Faculty</th>\n",
       "      <th>Year</th>\n",
       "      <th>Code</th>\n",
       "      <th>Barcode</th>\n",
       "    </tr>\n",
       "    <tr>\n",
       "      <th>Name</th>\n",
       "      <th></th>\n",
       "      <th></th>\n",
       "      <th></th>\n",
       "      <th></th>\n",
       "      <th></th>\n",
       "      <th></th>\n",
       "    </tr>\n",
       "  </thead>\n",
       "  <tbody>\n",
       "    <tr>\n",
       "      <th>Sangam</th>\n",
       "      <td>Sangam</td>\n",
       "      <td>16-cse-3029</td>\n",
       "      <td>cse</td>\n",
       "      <td>2020</td>\n",
       "      <td>16203079</td>\n",
       "      <td>*16203079*</td>\n",
       "    </tr>\n",
       "  </tbody>\n",
       "</table>\n",
       "</div>"
      ],
      "text/plain": [
       "          Name      Roll no Faculty  Year      Code     Barcode\n",
       "Name                                                           \n",
       "Sangam  Sangam  16-cse-3029     cse  2020  16203079  *16203079*"
      ]
     },
     "execution_count": 12,
     "metadata": {},
     "output_type": "execute_result"
    }
   ],
   "source": [
    "\n",
    "labels = [input('enter a name')]\n",
    "\n",
    "index_ints = [df.index.get_loc(label) for label in labels]\n",
    "df.iloc[index_ints] \n",
    "\n",
    "        \n",
    "\n"
   ]
  },
  {
   "cell_type": "code",
   "execution_count": null,
   "metadata": {},
   "outputs": [],
   "source": []
  },
  {
   "cell_type": "code",
   "execution_count": null,
   "metadata": {},
   "outputs": [],
   "source": []
  }
 ],
 "metadata": {
  "kernelspec": {
   "display_name": "Python 3",
   "language": "python",
   "name": "python3"
  },
  "language_info": {
   "codemirror_mode": {
    "name": "ipython",
    "version": 3
   },
   "file_extension": ".py",
   "mimetype": "text/x-python",
   "name": "python",
   "nbconvert_exporter": "python",
   "pygments_lexer": "ipython3",
   "version": "3.7.3"
  }
 },
 "nbformat": 4,
 "nbformat_minor": 2
}
